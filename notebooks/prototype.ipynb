{
 "cells": [
  {
   "cell_type": "code",
   "execution_count": null,
   "id": "0efd136c",
   "metadata": {},
   "outputs": [],
   "source": []
  },
  {
   "cell_type": "code",
   "execution_count": null,
   "id": "7dcb910e",
   "metadata": {},
   "outputs": [
    {
     "name": "stderr",
     "output_type": "stream",
     "text": [
      "[*********************100%***********************]  7 of 7 completed\n"
     ]
    }
   ],
   "source": [
    "# To request data with the ticker close price for the maximum number of years and save it.\n",
    "\n",
    "import sys\n",
    "sys.path.append('..')\n",
    "from src.data_fetch import fetch_prices\n",
    "import numpy as np\n",
    "\n",
    "tickers = [\"AAPL\",\"MSFT\",\"GOOGL\",\"AMZN\",\"TSLA\",\"SPY\",\"TLT\"]\n",
    "prices=fetch_prices(tickers)\n",
    "\n",
    "prices.to_csv('../assets/data/prices.csv') # Save the retrived datafile"
   ]
  },
  {
   "cell_type": "code",
   "execution_count": 7,
   "id": "8a8a9c59",
   "metadata": {},
   "outputs": [
    {
     "data": {
      "text/plain": [
       "1    1.000000\n",
       "2    0.500000\n",
       "3    0.333333\n",
       "4    0.250000\n",
       "5    0.200000\n",
       "6    0.166667\n",
       "7    0.142857\n",
       "8    0.125000\n",
       "dtype: float64"
      ]
     },
     "execution_count": 7,
     "metadata": {},
     "output_type": "execute_result"
    }
   ],
   "source": [
    "import numpy as np\n",
    "import pandas as pd\n",
    "from scipy.stats import norm\n",
    "\n",
    "p=pd.Series([1,2,3,4,5,6,7,8,9])\n",
    "p.pct_change().dropna()"
   ]
  }
 ],
 "metadata": {
  "kernelspec": {
   "display_name": "risk-dashboard",
   "language": "python",
   "name": "python3"
  },
  "language_info": {
   "codemirror_mode": {
    "name": "ipython",
    "version": 3
   },
   "file_extension": ".py",
   "mimetype": "text/x-python",
   "name": "python",
   "nbconvert_exporter": "python",
   "pygments_lexer": "ipython3",
   "version": "3.11.13"
  }
 },
 "nbformat": 4,
 "nbformat_minor": 5
}
